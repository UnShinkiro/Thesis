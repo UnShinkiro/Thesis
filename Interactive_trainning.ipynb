{
 "cells": [
  {
   "cell_type": "code",
   "execution_count": 1,
   "id": "436d34d5-738e-4f7f-926c-0c78cfae1f2d",
   "metadata": {},
   "outputs": [],
   "source": [
    "from scipy.io import wavfile\n",
    "import os\n",
    "import pickle\n",
    "import numpy as np\n",
    "import tensorflow as tf\n",
    "import random\n",
    "from tensorflow import keras\n",
    "from pre_process import form_input_data"
   ]
  },
  {
   "cell_type": "code",
   "execution_count": 2,
   "id": "cc027153-c1e3-4f85-b237-1ecb02c3516d",
   "metadata": {},
   "outputs": [],
   "source": [
    "INT16_MAX = 32767\n",
    "SAMPLE_RATE, _ = wavfile.read(\"../VCTK-Corpus/wav48/p225/p225_001.wav\")\n",
    "FRAME_SIZE = int(SAMPLE_RATE * 0.025)\n",
    "NFFT = 512 \n",
    "NFILT = 40\n",
    "N_SPEAKER = 32\n",
    "pre_emphasis = 0.97\n",
    "\n",
    "spk_list = os.listdir(\"../VCTK-Corpus/wav48/\")\n",
    "utterance = {}\n",
    "emphasized_data = []\n",
    "validation_dataset = []\n",
    "validation_data = []\n",
    "validation_label = []\n",
    "train_data = []\n",
    "train_label = []\n",
    "enrollment_dataset = []\n",
    "verification_dataset = []"
   ]
  },
  {
   "cell_type": "code",
   "execution_count": 4,
   "id": "27488d6e-aef2-49ef-bf1d-fc246712b729",
   "metadata": {},
   "outputs": [],
   "source": [
    "# Text-independent Data processing\n",
    "for pid, speaker in enumerate(spk_list[0:N_SPEAKER]):\n",
    "    utterance[speaker] = {}\n",
    "    path = \"../VCTK-Corpus/wav48/\" + speaker\n",
    "    utterance[speaker]['files'] = os.listdir(path)\n",
    "    for count in range(10):\n",
    "        file_path = \"../VCTK-Corpus/wav48/\" + speaker + \"/\" + utterance[speaker]['files'].pop(0)\n",
    "        _, data = wavfile.read(file_path)         # requires tons of memory with many spekaers\n",
    "        emphasized_signal = np.append(data[0], data[1:] - pre_emphasis * data[:-1])\n",
    "        if count < 5:\n",
    "            emphasized_data.append((emphasized_signal,pid))\n",
    "        elif count < 10:\n",
    "            validation_dataset.append((emphasized_signal,pid))\n",
    "\n",
    "for entry in emphasized_data:\n",
    "    form_input_data(entry, train_data, train_label)\n",
    "for entry in validation_dataset:\n",
    "    form_input_data(entry, validation_data, validation_label)"
   ]
  },
  {
   "cell_type": "code",
   "execution_count": 5,
   "id": "472b7188-de60-401f-b991-4936b853a4a0",
   "metadata": {},
   "outputs": [],
   "source": [
    "with open('trainning_data.pkl', 'wb') as f:  # Python 3: open(..., 'wb')\n",
    "    pickle.dump([train_data, train_label, validation_data, validation_label], f)\n",
    "with open('utterance_list.pkl', 'wb') as f:\n",
    "    pickle.dump([utterance, spk_list], f)"
   ]
  },
  {
   "cell_type": "code",
   "execution_count": 3,
   "id": "db934e31-7b72-4375-9bbc-d5400ea23cbc",
   "metadata": {},
   "outputs": [],
   "source": [
    "with open('trainning_data.pkl', 'rb') as f:  # Python 3: open(..., 'rb')\n",
    "    train_data, train_label, validation_data, validation_label = pickle.load(f)"
   ]
  },
  {
   "cell_type": "code",
   "execution_count": 3,
   "id": "dcd1bf01-2b75-4845-84d7-6162058c0573",
   "metadata": {},
   "outputs": [],
   "source": [
    "def form_input_data(entry, data_list, label_list):\n",
    "    # 40 filter_banks + 30 frames left + 10 frames right\n",
    "    data, spk = entry\n",
    "    filter_banks = get_filter_banks(data)\n",
    "    for n in range(30, len(filter_banks) - 10):\n",
    "        frame = filter_banks[n-30: n+11].reshape(41*40)\n",
    "        data_list.append(frame)\n",
    "        label_list.append(spk)\n",
    "\n",
    "def get_filter_banks(data):\n",
    "    all_filter_banks = []\n",
    "    nframes = int(data.size/FRAME_SIZE) + 1\n",
    "    for n in range(nframes):\n",
    "        frame = data[n*FRAME_SIZE : (n+1)*FRAME_SIZE]\n",
    "        if frame.size < FRAME_SIZE:\n",
    "            frame = np.concatenate((frame,np.zeros(FRAME_SIZE - frame.size, dtype=int)))\n",
    "        all_filter_banks.append(extract_filter_banks(frame))\n",
    "    return np.array(all_filter_banks)"
   ]
  },
  {
   "cell_type": "code",
   "execution_count": 4,
   "id": "da1cfd25-19a0-402f-a436-ccd200e26760",
   "metadata": {},
   "outputs": [],
   "source": [
    "inputs = keras.layers.Input(shape=(NFILT*41,))\n",
    "dense1 = keras.layers.Dense(256, kernel_regularizer='l2', activation='relu')(inputs)\n",
    "dense2 = keras.layers.Dense(256, kernel_regularizer='l2', activation='relu')(dense1)\n",
    "dense3 = keras.layers.Dense(256, kernel_regularizer='l2', activation='relu')(dense2)\n",
    "drop_out1 = keras.layers.Dropout(0.5)(dense3)\n",
    "dense4 = keras.layers.Dense(256, kernel_regularizer='l2', activation='relu')(drop_out1)\n",
    "drop_out2 = keras.layers.Dropout(0.5)(dense4)\n",
    "outputs = keras.layers.Dense(N_SPEAKER, activation='softmax')(drop_out2)\n",
    "model = keras.models.Model(inputs=inputs, outputs=outputs)"
   ]
  },
  {
   "cell_type": "code",
   "execution_count": 4,
   "id": "6feba6fc-a212-49cc-b615-1dc3cc54ad3d",
   "metadata": {},
   "outputs": [],
   "source": [
    "inputs = keras.layers.Input(shape=(NFILT*41,))\n",
    "dense1 = keras.layers.Dense(256, activation='relu')(inputs)\n",
    "dense2 = keras.layers.Dense(256, activation='relu')(dense1)\n",
    "dense3 = keras.layers.Dense(256, activation='relu')(dense2)\n",
    "dense4 = keras.layers.Dense(256, activation='relu')(dense3)\n",
    "outputs = keras.layers.Dense(N_SPEAKER, activation='softmax')(dense4)\n",
    "model = keras.models.Model(inputs=inputs, outputs=outputs)"
   ]
  },
  {
   "cell_type": "code",
   "execution_count": 5,
   "id": "ddbe1f45-af74-41a3-9744-4959e3e740ff",
   "metadata": {},
   "outputs": [
    {
     "name": "stdout",
     "output_type": "stream",
     "text": [
      "Epoch 1/50\n",
      "906/906 [==============================] - 14s 13ms/step - loss: 14.7688 - accuracy: 0.0512 - val_loss: 5.8252 - val_accuracy: 0.1809\n",
      "Epoch 2/50\n",
      "906/906 [==============================] - 8s 9ms/step - loss: 4.7066 - accuracy: 0.2623 - val_loss: 2.6635 - val_accuracy: 0.5365\n",
      "Epoch 3/50\n",
      "906/906 [==============================] - 8s 9ms/step - loss: 2.3695 - accuracy: 0.6086 - val_loss: 2.1805 - val_accuracy: 0.6324\n",
      "Epoch 4/50\n",
      "906/906 [==============================] - 8s 9ms/step - loss: 1.8405 - accuracy: 0.7211 - val_loss: 1.9622 - val_accuracy: 0.6808\n",
      "Epoch 5/50\n",
      "906/906 [==============================] - 8s 9ms/step - loss: 1.6394 - accuracy: 0.7696 - val_loss: 1.9937 - val_accuracy: 0.6853\n",
      "Epoch 6/50\n",
      "906/906 [==============================] - 8s 9ms/step - loss: 1.5744 - accuracy: 0.7963 - val_loss: 1.9662 - val_accuracy: 0.7094\n",
      "Epoch 7/50\n",
      "906/906 [==============================] - 8s 8ms/step - loss: 1.5815 - accuracy: 0.8022 - val_loss: 1.9595 - val_accuracy: 0.7087\n",
      "Epoch 8/50\n",
      "906/906 [==============================] - 9s 9ms/step - loss: 1.5278 - accuracy: 0.8205 - val_loss: 2.0397 - val_accuracy: 0.7067\n",
      "Epoch 9/50\n",
      "906/906 [==============================] - 8s 9ms/step - loss: 1.5257 - accuracy: 0.8255 - val_loss: 1.9419 - val_accuracy: 0.7225\n",
      "Epoch 10/50\n",
      "906/906 [==============================] - 8s 9ms/step - loss: 1.5026 - accuracy: 0.8280 - val_loss: 1.9803 - val_accuracy: 0.7263\n",
      "Epoch 11/50\n",
      "906/906 [==============================] - 8s 8ms/step - loss: 1.5001 - accuracy: 0.8315 - val_loss: 2.1731 - val_accuracy: 0.6909\n",
      "Epoch 12/50\n",
      "906/906 [==============================] - 8s 8ms/step - loss: 1.4946 - accuracy: 0.8355 - val_loss: 2.1583 - val_accuracy: 0.7040\n",
      "Epoch 13/50\n",
      "906/906 [==============================] - 8s 9ms/step - loss: 1.5268 - accuracy: 0.8344 - val_loss: 2.0777 - val_accuracy: 0.7066\n",
      "Epoch 14/50\n",
      "906/906 [==============================] - 11s 12ms/step - loss: 1.4751 - accuracy: 0.8395 - val_loss: 1.9695 - val_accuracy: 0.7311\n",
      "Epoch 15/50\n",
      "906/906 [==============================] - 12s 13ms/step - loss: 1.4539 - accuracy: 0.8447 - val_loss: 1.9792 - val_accuracy: 0.7229\n",
      "Epoch 16/50\n",
      "906/906 [==============================] - 11s 12ms/step - loss: 1.4767 - accuracy: 0.8414 - val_loss: 2.0620 - val_accuracy: 0.7163\n",
      "Epoch 17/50\n",
      "906/906 [==============================] - 10s 11ms/step - loss: 1.4244 - accuracy: 0.8515 - val_loss: 2.0829 - val_accuracy: 0.7129\n",
      "Epoch 18/50\n",
      "906/906 [==============================] - 9s 10ms/step - loss: 1.4825 - accuracy: 0.8494 - val_loss: 2.0308 - val_accuracy: 0.7194\n",
      "Epoch 19/50\n",
      "906/906 [==============================] - 11s 12ms/step - loss: 1.4668 - accuracy: 0.8472 - val_loss: 2.1365 - val_accuracy: 0.7130\n",
      "Epoch 20/50\n",
      "906/906 [==============================] - 11s 12ms/step - loss: 1.4614 - accuracy: 0.8478 - val_loss: 2.0601 - val_accuracy: 0.7216\n",
      "Epoch 21/50\n",
      "906/906 [==============================] - 11s 12ms/step - loss: 1.4510 - accuracy: 0.8504 - val_loss: 2.0675 - val_accuracy: 0.7309\n",
      "Epoch 22/50\n",
      "906/906 [==============================] - 11s 12ms/step - loss: 1.4327 - accuracy: 0.8478 - val_loss: 2.2076 - val_accuracy: 0.6986\n",
      "Epoch 23/50\n",
      "906/906 [==============================] - 11s 12ms/step - loss: 1.4740 - accuracy: 0.8468 - val_loss: 2.0221 - val_accuracy: 0.7234\n",
      "Epoch 24/50\n",
      "906/906 [==============================] - 11s 12ms/step - loss: 1.4274 - accuracy: 0.8521 - val_loss: 1.9984 - val_accuracy: 0.7339\n",
      "Epoch 25/50\n",
      "906/906 [==============================] - 11s 12ms/step - loss: 1.4530 - accuracy: 0.8494 - val_loss: 2.1809 - val_accuracy: 0.7024\n",
      "Epoch 26/50\n",
      "906/906 [==============================] - 11s 12ms/step - loss: 1.4591 - accuracy: 0.8462 - val_loss: 2.0797 - val_accuracy: 0.7245\n",
      "Epoch 27/50\n",
      "906/906 [==============================] - 11s 12ms/step - loss: 1.4662 - accuracy: 0.8476 - val_loss: 2.0390 - val_accuracy: 0.7175\n",
      "Epoch 28/50\n",
      "906/906 [==============================] - 10s 11ms/step - loss: 1.4138 - accuracy: 0.8526 - val_loss: 1.9995 - val_accuracy: 0.7217\n",
      "Epoch 29/50\n",
      "906/906 [==============================] - 11s 12ms/step - loss: 1.4470 - accuracy: 0.8479 - val_loss: 2.0997 - val_accuracy: 0.7176\n",
      "Epoch 30/50\n",
      "906/906 [==============================] - 11s 12ms/step - loss: 1.4164 - accuracy: 0.8554 - val_loss: 1.9346 - val_accuracy: 0.7390\n",
      "Epoch 31/50\n",
      "906/906 [==============================] - 12s 13ms/step - loss: 1.3712 - accuracy: 0.8592 - val_loss: 2.0154 - val_accuracy: 0.7303\n",
      "Epoch 32/50\n",
      "906/906 [==============================] - 11s 13ms/step - loss: 1.3809 - accuracy: 0.8594 - val_loss: 2.1097 - val_accuracy: 0.6964\n",
      "Epoch 33/50\n",
      "906/906 [==============================] - 12s 13ms/step - loss: 1.4320 - accuracy: 0.8503 - val_loss: 2.0588 - val_accuracy: 0.7139\n",
      "Epoch 34/50\n",
      "906/906 [==============================] - 11s 12ms/step - loss: 1.4070 - accuracy: 0.8566 - val_loss: 1.9878 - val_accuracy: 0.7204\n",
      "Epoch 35/50\n",
      "906/906 [==============================] - 11s 12ms/step - loss: 1.3892 - accuracy: 0.8509 - val_loss: 2.0553 - val_accuracy: 0.7185\n",
      "Epoch 36/50\n",
      "906/906 [==============================] - 11s 12ms/step - loss: 1.3657 - accuracy: 0.8533 - val_loss: 2.1029 - val_accuracy: 0.7000\n",
      "Epoch 37/50\n",
      "906/906 [==============================] - 10s 12ms/step - loss: 1.3958 - accuracy: 0.8506 - val_loss: 1.8998 - val_accuracy: 0.7433\n",
      "Epoch 38/50\n",
      "906/906 [==============================] - 11s 12ms/step - loss: 1.3903 - accuracy: 0.8503 - val_loss: 1.8950 - val_accuracy: 0.7374\n",
      "Epoch 39/50\n",
      "906/906 [==============================] - 11s 12ms/step - loss: 1.3221 - accuracy: 0.8580 - val_loss: 1.9708 - val_accuracy: 0.7333\n",
      "Epoch 40/50\n",
      "906/906 [==============================] - 11s 13ms/step - loss: 1.3514 - accuracy: 0.8600 - val_loss: 1.8578 - val_accuracy: 0.7447\n",
      "Epoch 41/50\n",
      "906/906 [==============================] - 12s 13ms/step - loss: 1.3213 - accuracy: 0.8605 - val_loss: 1.9191 - val_accuracy: 0.7280\n",
      "Epoch 42/50\n",
      "906/906 [==============================] - 10s 11ms/step - loss: 1.3150 - accuracy: 0.8587 - val_loss: 1.9063 - val_accuracy: 0.7383\n",
      "Epoch 43/50\n",
      "906/906 [==============================] - 11s 12ms/step - loss: 1.3370 - accuracy: 0.8541 - val_loss: 1.8288 - val_accuracy: 0.7500\n",
      "Epoch 44/50\n",
      "906/906 [==============================] - 11s 12ms/step - loss: 1.3185 - accuracy: 0.8571 - val_loss: 1.9486 - val_accuracy: 0.7271\n",
      "Epoch 45/50\n",
      "906/906 [==============================] - 11s 12ms/step - loss: 1.3020 - accuracy: 0.8601 - val_loss: 1.8669 - val_accuracy: 0.7361\n",
      "Epoch 46/50\n",
      "906/906 [==============================] - 11s 12ms/step - loss: 1.3233 - accuracy: 0.8560 - val_loss: 1.9980 - val_accuracy: 0.7213\n",
      "Epoch 47/50\n",
      "906/906 [==============================] - 11s 12ms/step - loss: 1.3162 - accuracy: 0.8562 - val_loss: 1.9742 - val_accuracy: 0.7284\n",
      "Epoch 48/50\n",
      "906/906 [==============================] - 11s 12ms/step - loss: 1.2795 - accuracy: 0.8647 - val_loss: 1.8360 - val_accuracy: 0.7454\n",
      "Epoch 49/50\n",
      "906/906 [==============================] - 11s 12ms/step - loss: 1.2960 - accuracy: 0.8649 - val_loss: 1.9527 - val_accuracy: 0.7251\n",
      "Epoch 50/50\n",
      "906/906 [==============================] - 8s 9ms/step - loss: 1.2447 - accuracy: 0.8682 - val_loss: 1.9466 - val_accuracy: 0.7318\n"
     ]
    },
    {
     "data": {
      "text/plain": [
       "<tensorflow.python.keras.callbacks.History at 0x13dba9b18b0>"
      ]
     },
     "execution_count": 5,
     "metadata": {},
     "output_type": "execute_result"
    }
   ],
   "source": [
    "# train model\n",
    "model.compile(optimizer='adam',\n",
    "              loss='sparse_categorical_crossentropy',\n",
    "              metrics=['accuracy'])\n",
    "\n",
    "model.fit(np.array(train_data), np.array(train_label), epochs=50, shuffle=True, validation_data=(np.array(validation_data),np.array(validation_label)))"
   ]
  },
  {
   "cell_type": "code",
   "execution_count": 6,
   "id": "8fe21807-1998-4c2f-bd14-451772249820",
   "metadata": {},
   "outputs": [
    {
     "name": "stdout",
     "output_type": "stream",
     "text": [
      "INFO:tensorflow:Assets written to: saved_model/my_model\\assets\n"
     ]
    }
   ],
   "source": [
    "model.save(\"saved_model/my_model\")"
   ]
  },
  {
   "cell_type": "code",
   "execution_count": 11,
   "id": "4487e6ed-f741-4283-8f2f-e54d21d9273a",
   "metadata": {},
   "outputs": [
    {
     "name": "stdout",
     "output_type": "stream",
     "text": [
      "Model: \"model\"\n",
      "_________________________________________________________________\n",
      "Layer (type)                 Output Shape              Param #   \n",
      "=================================================================\n",
      "input_1 (InputLayer)         [(None, 40)]              0         \n",
      "_________________________________________________________________\n",
      "dense (Dense)                (None, 256)               10496     \n",
      "_________________________________________________________________\n",
      "dense_1 (Dense)              (None, 256)               65792     \n",
      "_________________________________________________________________\n",
      "dense_2 (Dense)              (None, 256)               65792     \n",
      "_________________________________________________________________\n",
      "dropout (Dropout)            (None, 256)               0         \n",
      "_________________________________________________________________\n",
      "dense_3 (Dense)              (None, 256)               65792     \n",
      "_________________________________________________________________\n",
      "dropout_1 (Dropout)          (None, 256)               0         \n",
      "_________________________________________________________________\n",
      "dense_4 (Dense)              (None, 8)                 2056      \n",
      "=================================================================\n",
      "Total params: 209,928\n",
      "Trainable params: 209,928\n",
      "Non-trainable params: 0\n",
      "_________________________________________________________________\n"
     ]
    }
   ],
   "source": [
    "load_back = tf.keras.models.load_model(\"saved_model/my_model\")\n",
    "load_back.summary()"
   ]
  },
  {
   "cell_type": "code",
   "execution_count": 27,
   "id": "ddd5657c-7039-460d-9dae-d6027ee88b28",
   "metadata": {},
   "outputs": [],
   "source": [
    "# process evaluation data\n",
    "_, data = wavfile.read(\"../VCTK-Corpus/wav48/p227/p227_021.wav\")\n",
    "'''\n",
    "for sample in range(len(data)):\n",
    "    data[sample] += random.randrange(-20,20)\n",
    "'''\n",
    "emphasized_signal = np.append(data[0], data[1:] - pre_emphasis * data[:-1])\n",
    "evaluation_data = []\n",
    "evaluation_label = []\n",
    "long_frame_filter_banks((emphasized_signal,2), evaluation_data, evaluation_label)"
   ]
  },
  {
   "cell_type": "code",
   "execution_count": 28,
   "id": "68f4c2e0-9f3f-491b-81db-e785fa8cc3bc",
   "metadata": {},
   "outputs": [],
   "source": [
    "layer_name = 'dropout_1'\n",
    "intermediate_layer_model = keras.models.Model(inputs=model.input,\n",
    "                                 outputs=model.get_layer(layer_name).output)\n",
    "intermediate_output = intermediate_layer_model.predict(np.array(evaluation_data))"
   ]
  },
  {
   "cell_type": "code",
   "execution_count": 29,
   "id": "a9077ed4-f0ab-4334-a7a9-d8d0955a3f34",
   "metadata": {},
   "outputs": [
    {
     "name": "stdout",
     "output_type": "stream",
     "text": [
      "12/12 [==============================] - 0s 3ms/step - loss: 7.8528 - accuracy: 0.5105 \n"
     ]
    }
   ],
   "source": [
    "test_loss, test_acc = model.evaluate(np.array(evaluation_data),  np.array(evaluation_label), verbose=1) "
   ]
  },
  {
   "cell_type": "code",
   "execution_count": 30,
   "id": "68063da5-2f8a-42a3-9cb5-ac9e44764cec",
   "metadata": {},
   "outputs": [],
   "source": [
    "d_vector = np.zeros(256)\n",
    "for out in intermediate_output:\n",
    "    d_vector += out/sum(out)"
   ]
  },
  {
   "cell_type": "code",
   "execution_count": 33,
   "id": "bfd78c4c-72a4-451a-89a7-8a3ae21ab8e6",
   "metadata": {},
   "outputs": [],
   "source": [
    "_, data = wavfile.read(\"../VCTK-Corpus/wav48/p227/p227_025.wav\")\n",
    "'''\n",
    "for sample in range(len(data)):\n",
    "    data[sample] += random.randrange(-20,20)\n",
    "'''\n",
    "emphasized_signal = np.append(data[0], data[1:] - pre_emphasis * data[:-1])\n",
    "evaluation_data = []\n",
    "evaluation_label = []\n",
    "long_frame_filter_banks((emphasized_signal,4), evaluation_data, evaluation_label)\n",
    "intermediate_output = intermediate_layer_model.predict(np.array(evaluation_data))\n",
    "d_eva = np.zeros(256)\n",
    "for out in intermediate_output:\n",
    "    d_eva += out/sum(out)"
   ]
  },
  {
   "cell_type": "code",
   "execution_count": 34,
   "id": "7196d62f-8228-4659-bb4f-c202fa9430ef",
   "metadata": {},
   "outputs": [
    {
     "data": {
      "text/plain": [
       "array([[1.        , 0.97769567],\n",
       "       [0.97769567, 1.        ]])"
      ]
     },
     "execution_count": 34,
     "metadata": {},
     "output_type": "execute_result"
    }
   ],
   "source": [
    "np.corrcoef(d_vector,d_eva)"
   ]
  },
  {
   "cell_type": "code",
   "execution_count": 16,
   "id": "55d1fabb-6d19-421d-94fc-66f3f838ccda",
   "metadata": {},
   "outputs": [
    {
     "name": "stdout",
     "output_type": "stream",
     "text": [
      "[2.13762568e-04 3.38687006e-04 7.23687697e-04 7.58267330e+00\n",
      " 4.54160504e+01]\n"
     ]
    }
   ],
   "source": [
    "summed = np.zeros(5)\n",
    "for out in intermediate_output:\n",
    "    summed += out\n",
    "print(summed)"
   ]
  },
  {
   "cell_type": "code",
   "execution_count": 23,
   "id": "e0bd1a97-a65f-4df9-8950-cad9f84a6b94",
   "metadata": {},
   "outputs": [
    {
     "name": "stdout",
     "output_type": "stream",
     "text": [
      "(186, 3)\n",
      "186\n"
     ]
    },
    {
     "ename": "ValueError",
     "evalue": "operands could not be broadcast together with shapes (256,) (3,) (256,) ",
     "output_type": "error",
     "traceback": [
      "\u001b[1;31m---------------------------------------------------------------------------\u001b[0m",
      "\u001b[1;31mValueError\u001b[0m                                Traceback (most recent call last)",
      "\u001b[1;32m<ipython-input-23-54c996f93bcd>\u001b[0m in \u001b[0;36m<module>\u001b[1;34m\u001b[0m\n\u001b[0;32m      3\u001b[0m \u001b[0msummed\u001b[0m \u001b[1;33m=\u001b[0m \u001b[0mnp\u001b[0m\u001b[1;33m.\u001b[0m\u001b[0mzeros\u001b[0m\u001b[1;33m(\u001b[0m\u001b[1;36m256\u001b[0m\u001b[1;33m)\u001b[0m\u001b[1;33m\u001b[0m\u001b[1;33m\u001b[0m\u001b[0m\n\u001b[0;32m      4\u001b[0m \u001b[1;32mfor\u001b[0m \u001b[0md\u001b[0m \u001b[1;32min\u001b[0m \u001b[0mintermediate_output\u001b[0m\u001b[1;33m:\u001b[0m\u001b[1;33m\u001b[0m\u001b[1;33m\u001b[0m\u001b[0m\n\u001b[1;32m----> 5\u001b[1;33m     \u001b[0msummed\u001b[0m \u001b[1;33m+=\u001b[0m \u001b[0md\u001b[0m\u001b[1;33m\u001b[0m\u001b[1;33m\u001b[0m\u001b[0m\n\u001b[0m\u001b[0;32m      6\u001b[0m \u001b[0mprint\u001b[0m\u001b[1;33m(\u001b[0m\u001b[0msummed\u001b[0m\u001b[1;33m)\u001b[0m\u001b[1;33m\u001b[0m\u001b[1;33m\u001b[0m\u001b[0m\n",
      "\u001b[1;31mValueError\u001b[0m: operands could not be broadcast together with shapes (256,) (3,) (256,) "
     ]
    }
   ],
   "source": [
    "print(intermediate_output.shape)\n",
    "print(len(intermediate_output))\n",
    "summed = np.zeros(256)\n",
    "for d in intermediate_output:\n",
    "    summed += d\n",
    "print(summed)"
   ]
  },
  {
   "cell_type": "code",
   "execution_count": 18,
   "id": "9117ee8f-19f1-41b1-9e3a-61d2946f7472",
   "metadata": {},
   "outputs": [
    {
     "ename": "NameError",
     "evalue": "name 'frames' is not defined",
     "output_type": "error",
     "traceback": [
      "\u001b[1;31m---------------------------------------------------------------------------\u001b[0m",
      "\u001b[1;31mNameError\u001b[0m                                 Traceback (most recent call last)",
      "\u001b[1;32m<ipython-input-18-fc74327e60be>\u001b[0m in \u001b[0;36m<module>\u001b[1;34m\u001b[0m\n\u001b[1;32m----> 1\u001b[1;33m \u001b[0mprint\u001b[0m\u001b[1;33m(\u001b[0m\u001b[0mframes\u001b[0m \u001b[1;33m*\u001b[0m \u001b[0mnp\u001b[0m\u001b[1;33m.\u001b[0m\u001b[0mhamming\u001b[0m\u001b[1;33m(\u001b[0m\u001b[0mFRAME_SIZE\u001b[0m\u001b[1;33m*\u001b[0m\u001b[1;36m3\u001b[0m\u001b[1;33m)\u001b[0m\u001b[1;33m)\u001b[0m\u001b[1;33m\u001b[0m\u001b[1;33m\u001b[0m\u001b[0m\n\u001b[0m",
      "\u001b[1;31mNameError\u001b[0m: name 'frames' is not defined"
     ]
    }
   ],
   "source": [
    "print(frames * np.hamming(FRAME_SIZE*3))"
   ]
  },
  {
   "cell_type": "code",
   "execution_count": null,
   "id": "f2de065b-ac59-4afb-a1ff-855e89bc57c1",
   "metadata": {},
   "outputs": [],
   "source": []
  }
 ],
 "metadata": {
  "kernelspec": {
   "display_name": "Python 3 (ipykernel)",
   "language": "python",
   "name": "python3"
  },
  "language_info": {
   "codemirror_mode": {
    "name": "ipython",
    "version": 3
   },
   "file_extension": ".py",
   "mimetype": "text/x-python",
   "name": "python",
   "nbconvert_exporter": "python",
   "pygments_lexer": "ipython3",
   "version": "3.9.6"
  }
 },
 "nbformat": 4,
 "nbformat_minor": 5
}
